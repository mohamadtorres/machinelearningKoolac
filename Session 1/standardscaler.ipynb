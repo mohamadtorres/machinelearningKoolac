{
 "cells": [
  {
   "cell_type": "code",
   "execution_count": 1,
   "metadata": {},
   "outputs": [],
   "source": [
    "import numpy as np\n",
    "from sklearn.preprocessing import StandardScaler"
   ]
  },
  {
   "cell_type": "code",
   "execution_count": 2,
   "metadata": {},
   "outputs": [],
   "source": [
    "#scaling\n",
    "x =np.array([\n",
    "    [1,1000000],\n",
    "    [2,2000000],\n",
    "    [3,4000000]\n",
    "])"
   ]
  },
  {
   "cell_type": "code",
   "execution_count": 3,
   "metadata": {},
   "outputs": [
    {
     "name": "stdout",
     "output_type": "stream",
     "text": [
      "[[-1.22474487 -1.06904497]\n",
      " [ 0.         -0.26726124]\n",
      " [ 1.22474487  1.33630621]]\n"
     ]
    }
   ],
   "source": [
    "scaler = StandardScaler()\n",
    "x = scaler.fit_transform(x)\n",
    "print(x)"
   ]
  },
  {
   "cell_type": "markdown",
   "metadata": {},
   "source": [
    "# Aslan in StandardScaler() chi hast?"
   ]
  },
  {
   "cell_type": "markdown",
   "metadata": {},
   "source": [
    "dar say mikone in dade haro bad az tabdil juri gharar bede ke miangin beshe 0 och standard deviation beshe 1"
   ]
  },
  {
   "cell_type": "markdown",
   "metadata": {},
   "source": [
    "har dade ro menhaye miangin mikone taghsim bar standard deviation be in omid ke un chizi ke hasel mishe az un sotun miangin beshe 0 och standard deviation beshe 1"
   ]
  },
  {
   "cell_type": "markdown",
   "metadata": {},
   "source": []
  }
 ],
 "metadata": {
  "kernelspec": {
   "display_name": "Python 3",
   "language": "python",
   "name": "python3"
  },
  "language_info": {
   "codemirror_mode": {
    "name": "ipython",
    "version": 3
   },
   "file_extension": ".py",
   "mimetype": "text/x-python",
   "name": "python",
   "nbconvert_exporter": "python",
   "pygments_lexer": "ipython3",
   "version": "3.11.5"
  }
 },
 "nbformat": 4,
 "nbformat_minor": 2
}
