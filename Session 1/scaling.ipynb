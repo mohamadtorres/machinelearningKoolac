{
 "cells": [
  {
   "cell_type": "code",
   "execution_count": 5,
   "metadata": {},
   "outputs": [],
   "source": [
    "import numpy as np\n",
    "from sklearn.preprocessing import MinMaxScaler"
   ]
  },
  {
   "cell_type": "code",
   "execution_count": 8,
   "metadata": {},
   "outputs": [],
   "source": [
    "#scaling\n",
    "x =np.array([\n",
    "    [1,1000000],\n",
    "    [2,2000000],\n",
    "    [3,3000000]\n",
    "])"
   ]
  },
  {
   "cell_type": "markdown",
   "metadata": {},
   "source": [
    "# hatman bayad beheesh araye 2D bedi age 1D bashe khata mide inja"
   ]
  },
  {
   "cell_type": "code",
   "execution_count": 12,
   "metadata": {},
   "outputs": [],
   "source": [
    "#az in kelas MinMaxScaler() ye shei misazim be esme Scaler\n",
    "scaler = MinMaxScaler()"
   ]
  },
  {
   "cell_type": "code",
   "execution_count": 15,
   "metadata": {},
   "outputs": [
    {
     "name": "stdout",
     "output_type": "stream",
     "text": [
      "[[0.  0. ]\n",
      " [0.5 0.5]\n",
      " [1.  1. ]]\n"
     ]
    }
   ],
   "source": [
    "#hala miaim fit mikonim. fit chie hala? yani aval boro bebin min harkodum chie maxe harkodum chie\n",
    "#yqaeni boro khodet ro emal kon kareto shoro kon kolangesho bezan'\n",
    "#bad az inke fit karde raft transform ham kard\n",
    "#na tanha fit karde rafte transform karde rikhte tu moteghayeri be esme x\n",
    "#avak fit mikone bad transform mikone\n",
    "\n",
    "x_jadid = scaler.fit_transform(x)\n",
    "print(x_jadid)"
   ]
  },
  {
   "cell_type": "markdown",
   "metadata": {},
   "source": [
    "har sotun ro avord in karo saresh anjam dad\n",
    "pas MinMaxScaler ruye har SOTUN kar mikone"
   ]
  },
  {
   "cell_type": "code",
   "execution_count": 17,
   "metadata": {},
   "outputs": [
    {
     "name": "stdout",
     "output_type": "stream",
     "text": [
      "[[0.  0. ]\n",
      " [0.5 0.5]\n",
      " [1.  1. ]]\n"
     ]
    }
   ],
   "source": [
    "#raveshe dovom\n",
    "#unja fit_transform baham shod\n",
    "# inja tak tak mikonim aval fit bad transform\n",
    "scaler.fit(x)\n",
    "#aval fit kardim\n",
    "x_jadid2 = scaler.transform(x)\n",
    "print(x_jadid2)\n",
    "#mohem ine aval fit karde bashim\n",
    "#age fit nakarde bashe bar asase chi biad transform kone. AVAL BAYAD FIT SHODE BASHE\n"
   ]
  },
  {
   "cell_type": "markdown",
   "metadata": {},
   "source": [
    "# MinMaxScaler() be soorate pishfarz mibare beine 0 va 1. Age bekhaim avaz konim bayad ye kare riz bokonim ke alan be zoodi migam"
   ]
  },
  {
   "cell_type": "markdown",
   "metadata": {},
   "source": [
    "Mibinim inam hamon shod yaeni hamoon karo kard ama tuye 2 marhale. <br> Entekhab ba khode adame ke kodumo estefade kone ba tavajoh be sharayet"
   ]
  }
 ],
 "metadata": {
  "kernelspec": {
   "display_name": "Python 3",
   "language": "python",
   "name": "python3"
  },
  "language_info": {
   "codemirror_mode": {
    "name": "ipython",
    "version": 3
   },
   "file_extension": ".py",
   "mimetype": "text/x-python",
   "name": "python",
   "nbconvert_exporter": "python",
   "pygments_lexer": "ipython3",
   "version": "3.11.5"
  }
 },
 "nbformat": 4,
 "nbformat_minor": 2
}
