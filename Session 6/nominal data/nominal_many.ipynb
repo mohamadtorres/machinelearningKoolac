{
 "cells": [
  {
   "cell_type": "code",
   "execution_count": 1,
   "metadata": {},
   "outputs": [],
   "source": [
    "import pandas as pd\n",
    "import numpy as np\n",
    "import matplotlib.pyplot as plt"
   ]
  },
  {
   "cell_type": "code",
   "execution_count": 2,
   "metadata": {},
   "outputs": [],
   "source": [
    "df = pd.read_csv(\"01-Ad.csv\")"
   ]
  },
  {
   "cell_type": "code",
   "execution_count": 3,
   "metadata": {},
   "outputs": [
    {
     "name": "stdout",
     "output_type": "stream",
     "text": [
      "     UserID  Gender Type  Age  EstimatedSalary  Purchased\n",
      "0         1    Male    B   24          2800000          0\n",
      "1         2    Male    A   48          3000000          0\n",
      "2         3  Female    B   34          7800000          0\n",
      "3         4  Female    B   36         10700000          0\n",
      "4         5    Male    D   24         14700000          0\n",
      "..      ...     ...  ...  ...              ...        ...\n",
      "395     396  Female    A   65          7400000          1\n",
      "396     397    Male    C   73          3700000          1\n",
      "397     398  Female    B   72          3000000          1\n",
      "398     399    Male    D   50          5700000          0\n",
      "399     400  Female    B   70          6400000          1\n",
      "\n",
      "[400 rows x 6 columns]\n"
     ]
    }
   ],
   "source": [
    "print(df)"
   ]
  },
  {
   "cell_type": "markdown",
   "metadata": {},
   "source": [
    "# OneHotEncoder\n",
    "Encode be soorate Onehot\n",
    "hamoon 0010, 0100, och in<br>\n",
    "aval miaim yeki az sotun haro dropp mikonim\n",
    "aksaran aval mian avali ya akhari ro bar midaran\n",
    "ejbari hast"
   ]
  },
  {
   "cell_type": "markdown",
   "metadata": {},
   "source": [
    "vaghty yekisho drop kardi mishe Dummy Variables"
   ]
  },
  {
   "cell_type": "code",
   "execution_count": 8,
   "metadata": {},
   "outputs": [
    {
     "name": "stdout",
     "output_type": "stream",
     "text": [
      "     Type_B  Type_C  Type_D\n",
      "0      True   False   False\n",
      "1     False   False   False\n",
      "2      True   False   False\n",
      "3      True   False   False\n",
      "4     False   False    True\n",
      "..      ...     ...     ...\n",
      "395   False   False   False\n",
      "396   False    True   False\n",
      "397    True   False   False\n",
      "398   False   False    True\n",
      "399    True   False   False\n",
      "\n",
      "[400 rows x 3 columns]\n"
     ]
    }
   ],
   "source": [
    " # raveshe aval ba pandas\n",
    "transformed_type = pd.get_dummies(df.loc[:,\"Type\"],prefix=\"Type\",drop_first=True)\n",
    "print(transformed_type)"
   ]
  },
  {
   "cell_type": "code",
   "execution_count": 12,
   "metadata": {},
   "outputs": [
    {
     "data": {
      "text/plain": [
       "array([[0., 1., 0., 0.],\n",
       "       [1., 0., 0., 0.],\n",
       "       [0., 1., 0., 0.],\n",
       "       ...,\n",
       "       [0., 1., 0., 0.],\n",
       "       [0., 0., 0., 1.],\n",
       "       [0., 1., 0., 0.]])"
      ]
     },
     "execution_count": 12,
     "metadata": {},
     "output_type": "execute_result"
    }
   ],
   "source": [
    "from sklearn.preprocessing import OneHotEncoder\n",
    "encoder_type1 = OneHotEncoder(sparse_output=False)\n",
    "#hatman bayad begim spars= False vagarna khorujish ghati pati mishe\n",
    "encoder_type1.fit_transform(df.loc[:,[\"Type\"]])"
   ]
  }
 ],
 "metadata": {
  "kernelspec": {
   "display_name": "Python 3",
   "language": "python",
   "name": "python3"
  },
  "language_info": {
   "codemirror_mode": {
    "name": "ipython",
    "version": 3
   },
   "file_extension": ".py",
   "mimetype": "text/x-python",
   "name": "python",
   "nbconvert_exporter": "python",
   "pygments_lexer": "ipython3",
   "version": "3.11.5"
  }
 },
 "nbformat": 4,
 "nbformat_minor": 2
}
